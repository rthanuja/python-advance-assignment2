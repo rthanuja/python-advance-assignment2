{
 "cells": [
  {
   "cell_type": "code",
   "execution_count": null,
   "id": "88e5b132",
   "metadata": {},
   "outputs": [],
   "source": [
    "Q1. What is the relationship between classes and modules?\n",
    "\n",
    "Module is also a kind of reference type like class and describes members like that in a class.They are pre-defined code \n",
    "library consisiting of functions,methods and classes which we want to include in any application or programme.classes can be \n",
    "instantiated with objects whereas modules cannot."
   ]
  },
  {
   "cell_type": "code",
   "execution_count": null,
   "id": "260ee0c6",
   "metadata": {},
   "outputs": [],
   "source": [
    "Q2. How do you make instances and classes?\n",
    "\n",
    "A class is a user defined blueprint for the objects.it is created by using the keyword class\n",
    "class <class_name>:\n",
    "    #attributes and methods\n",
    "An object is a instance of a class.instance or objects are same but instance defines the relationship between class and object\n",
    "<object_name>=<class_name>(arguments)"
   ]
  },
  {
   "cell_type": "code",
   "execution_count": null,
   "id": "c5aeb980",
   "metadata": {},
   "outputs": [],
   "source": [
    "Q3. Where and how should be class attributes created?\n",
    "\n",
    "class attributes must be created within the class but outside of any instance method or __init__() method.they are shared\n",
    "by all instances of the class.\n",
    "\n",
    "class <class_name>:\n",
    "    <class_attribute>=<value>"
   ]
  },
  {
   "cell_type": "code",
   "execution_count": null,
   "id": "5458f493",
   "metadata": {},
   "outputs": [],
   "source": [
    "Q4. Where and how are instance attributes created?\n",
    "\n",
    "Instance attributes must be created inside the instance methods or __init__() method.Every instance has it's own value.\n",
    "\n",
    "class class_name:\n",
    "    def __init__(self,attributes):\n",
    "        self.attribute=attribute"
   ]
  },
  {
   "cell_type": "code",
   "execution_count": null,
   "id": "84fff4ac",
   "metadata": {},
   "outputs": [],
   "source": [
    "Q5. What does the term \"self\" in a Python class mean?\n",
    "\n",
    "It is a convention in python to use self parameter to represent the current instance of a class.self is not a keyword in python.\n",
    "we can use anyname other than keywords but self is used for legibility of the code.\n",
    "By using this parameter we can access the attributes and methods of the class.It binds the attributes with the given arguments."
   ]
  },
  {
   "cell_type": "code",
   "execution_count": null,
   "id": "c4485aa6",
   "metadata": {},
   "outputs": [],
   "source": [
    "Q6. How does a Python class handle operator overloading?\n",
    "\n",
    "python provides some magic methods or special methods(that start and end with double underscore) that are automatically \n",
    "invoked when when they are associated with a particular operator.we can change the behaviour of that special function by\n",
    "defining a method in the class and the operators work according to the behaviour defined in the method."
   ]
  },
  {
   "cell_type": "code",
   "execution_count": null,
   "id": "94b0c22e",
   "metadata": {},
   "outputs": [],
   "source": [
    "Q7. When do you consider allowing operator overloading of your classes?\n",
    "\n",
    "when you want to perform an operation that currently doesnot exist,using an operator which is familiar we overload the opeartor.\n",
    "It should be done judiciously and should make sense for the operations in class."
   ]
  },
  {
   "cell_type": "code",
   "execution_count": null,
   "id": "626fd94e",
   "metadata": {},
   "outputs": [],
   "source": [
    "Q8. What is the most popular form of operator overloading?\n",
    "\n",
    "plus operator + is the most popular form of operator overloading ."
   ]
  },
  {
   "cell_type": "code",
   "execution_count": null,
   "id": "443d5742",
   "metadata": {},
   "outputs": [],
   "source": [
    "Q9. What are the two most important concepts to grasp in order to comprehend Python OOP code?\n",
    "\n",
    "Inheritance and polymorphism are the two most important concepts in OOP."
   ]
  }
 ],
 "metadata": {
  "kernelspec": {
   "display_name": "Python 3 (ipykernel)",
   "language": "python",
   "name": "python3"
  },
  "language_info": {
   "codemirror_mode": {
    "name": "ipython",
    "version": 3
   },
   "file_extension": ".py",
   "mimetype": "text/x-python",
   "name": "python",
   "nbconvert_exporter": "python",
   "pygments_lexer": "ipython3",
   "version": "3.10.9"
  }
 },
 "nbformat": 4,
 "nbformat_minor": 5
}
